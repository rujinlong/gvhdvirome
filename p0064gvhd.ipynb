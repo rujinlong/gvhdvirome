{
 "cells": [
  {
   "cell_type": "code",
   "execution_count": 1,
   "id": "c7d27e8d-c8b0-42a3-aec3-1d529ff07501",
   "metadata": {},
   "outputs": [],
   "source": [
    "%matplotlib inline\n",
    "import pandas as pd"
   ]
  },
  {
   "cell_type": "markdown",
   "id": "8db5a741-28f7-4975-9cc4-bc5cf4fbcc7e",
   "metadata": {},
   "source": [
    "# Create metadata"
   ]
  },
  {
   "cell_type": "code",
   "execution_count": 207,
   "id": "f589331d-2f7d-4baa-9ec9-26c42298e250",
   "metadata": {},
   "outputs": [],
   "source": [
    "# Read survival data\n",
    "fpath_index = \"data/collab/2021-12-09_new_index/Index file.xlsx\"\n",
    "meta_index = pd.read_excel(fpath_index).iloc[:,[0,-1]]\n",
    "meta_index.columns = ['Project_ID', 'survival1year']\n",
    "\n",
    "# Read raw metadata\n",
    "dl2seq = pd.read_csv(\"data/raw/downloadID2seqID.tsv\", sep='\\t', names=['Download_ID', 'seq_sample_id'])\n",
    "\n",
    "fpath_metadata = \"data/collab/P0064_Meta-data.xlsx\"\n",
    "meta_xue_vir = pd.read_excel(fpath_metadata, sheet_name=\"Virome\")\n",
    "meta_xue_atb = pd.read_excel(fpath_metadata, sheet_name=\"Antibiotics\")\n",
    "meta_xue_amp = pd.read_excel(fpath_metadata, sheet_name=\"16S_ITS\")\n",
    "\n",
    "# Rename columns\n",
    "meta_xue_vir = meta_xue_vir[meta_xue_vir.Sample_ID!='BAX1'].copy()\n",
    "meta_xue_vir = meta_xue_vir.merge(dl2seq, on='Download_ID', how='left')\n",
    "meta_xue_vir.rename(columns={x:'vir_'+x for x in meta_xue_vir.columns if x!='Project_ID'}, inplace=True)\n",
    "meta_xue_atb.rename(columns={x:'atb_'+x for x in meta_xue_atb.columns if x!='Project_ID'}, inplace=True)\n",
    "meta_xue_amp.rename(columns={x:'amp_'+x for x in meta_xue_amp.columns if x!='Project_ID'}, inplace=True)"
   ]
  },
  {
   "cell_type": "code",
   "execution_count": 208,
   "id": "b2244c16-5c41-4654-a838-4ca1dd4b11b4",
   "metadata": {},
   "outputs": [],
   "source": [
    "# Create new metadata\n",
    "project_ids = list(set(meta_xue_vir.Project_ID.tolist() + meta_xue_atb.Project_ID.tolist() + meta_xue_amp.Project_ID.tolist()))\n",
    "project_ids = [x for x in project_ids if str(x)!=\"nan\"]\n",
    "meta = pd.DataFrame(project_ids, columns=[\"Project_ID\"])\n",
    "meta = meta.merge(meta_xue_vir, on=\"Project_ID\", how=\"left\")\n",
    "meta = meta.merge(meta_xue_atb, on=\"Project_ID\", how=\"left\")\n",
    "meta = meta.merge(meta_xue_amp, on=\"Project_ID\", how=\"left\")\n",
    "meta = meta.merge(meta_index, on=\"Project_ID\", how=\"left\")"
   ]
  },
  {
   "cell_type": "code",
   "execution_count": 200,
   "id": "b7817cd1-8355-4457-87cb-b21b9cf0b931",
   "metadata": {},
   "outputs": [],
   "source": [
    "meta['GvHD'] = meta.apply(lambda x:int(x['amp_GVHD']) if str(x['amp_GVHD'])!='nan' else int(x['vir_GvHD_0-No_1-mild_2-severe']), axis=1)"
   ]
  },
  {
   "cell_type": "code",
   "execution_count": 204,
   "id": "b26b2f8c-8fce-4acd-8b65-6c44d8c38a18",
   "metadata": {},
   "outputs": [],
   "source": [
    "meta.to_csv(\"data/processed/metadata.tsv\", sep=\"\\t\", index=False)"
   ]
  },
  {
   "cell_type": "markdown",
   "id": "41c0519c-43c8-41cf-97cb-13384764776e",
   "metadata": {},
   "source": [
    "# CheckV"
   ]
  },
  {
   "cell_type": "code",
   "execution_count": 2,
   "id": "c1a52194-32e2-42a3-96a9-c0d7f70f143c",
   "metadata": {},
   "outputs": [],
   "source": [
    "df = pd.read_csv(\"/Users/allen/tmp/quality_summary.tsv\", sep='\\t')"
   ]
  },
  {
   "cell_type": "code",
   "execution_count": 4,
   "id": "324ce035-9759-4b82-a98a-8d775fca7797",
   "metadata": {},
   "outputs": [
    {
     "data": {
      "text/plain": [
       "No     14473\n",
       "Yes      455\n",
       "Name: provirus, dtype: int64"
      ]
     },
     "execution_count": 4,
     "metadata": {},
     "output_type": "execute_result"
    }
   ],
   "source": [
    "df.provirus.value_counts()"
   ]
  },
  {
   "cell_type": "code",
   "execution_count": 5,
   "id": "2ddfaffa-a861-4107-99f6-3fd0708994aa",
   "metadata": {},
   "outputs": [],
   "source": [
    "df_virus = df[df.provirus==\"No\"]"
   ]
  },
  {
   "cell_type": "code",
   "execution_count": 13,
   "id": "351021f9-f29a-4139-9295-0f93b419e42f",
   "metadata": {},
   "outputs": [
    {
     "data": {
      "text/plain": [
       "<AxesSubplot:>"
      ]
     },
     "execution_count": 13,
     "metadata": {},
     "output_type": "execute_result"
    },
    {
     "data": {
      "image/png": "[encoded data removed]",
      "text/plain": [
       "<Figure size 432x288 with 1 Axes>"
      ]
     },
     "metadata": {
      "needs_background": "light"
     },
     "output_type": "display_data"
    }
   ],
   "source": [
    "df_virus[df_virus.contig_length>5000]['contig_length'].hist(bins=100)"
   ]
  },
  {
   "cell_type": "code",
   "execution_count": 15,
   "id": "e55c1e7e-78b0-4557-905c-012905e185e4",
   "metadata": {},
   "outputs": [
    {
     "data": {
      "text/plain": [
       "Not-determined    7074\n",
       "Low-quality       4880\n",
       "High-quality      1197\n",
       "Medium-quality     934\n",
       "Complete           388\n",
       "Name: checkv_quality, dtype: int64"
      ]
     },
     "execution_count": 15,
     "metadata": {},
     "output_type": "execute_result"
    }
   ],
   "source": [
    "df_virus.checkv_quality.value_counts()"
   ]
  },
  {
   "cell_type": "code",
   "execution_count": 23,
   "id": "bf084b63-89b4-48a1-b321-34508e5046eb",
   "metadata": {},
   "outputs": [
    {
     "data": {
      "text/plain": [
       "<AxesSubplot:>"
      ]
     },
     "execution_count": 23,
     "metadata": {},
     "output_type": "execute_result"
    },
    {
     "data": {
      "image/png": "[encoded data removed]",
      "text/plain": [
       "<Figure size 432x288 with 1 Axes>"
      ]
     },
     "metadata": {
      "needs_background": "light"
     },
     "output_type": "display_data"
    }
   ],
   "source": [
    "df_virus[df_virus.checkv_quality==\"Complete\"]['contig_length'].hist(bins=200)"
   ]
  },
  {
   "cell_type": "code",
   "execution_count": null,
   "id": "4b2e9e46-3ee9-4f52-a4fc-cb486a59c552",
   "metadata": {},
   "outputs": [],
   "source": []
  }
 ],
 "metadata": {
  "kernelspec": {
   "display_name": "Python [conda env:py3]",
   "language": "python",
   "name": "conda-env-py3-py"
  },
  "language_info": {
   "codemirror_mode": {
    "name": "ipython",
    "version": 3
   },
   "file_extension": ".py",
   "mimetype": "text/x-python",
   "name": "python",
   "nbconvert_exporter": "python",
   "pygments_lexer": "ipython3",
   "version": "3.9.4"
  }
 },
 "nbformat": 4,
 "nbformat_minor": 5
}
